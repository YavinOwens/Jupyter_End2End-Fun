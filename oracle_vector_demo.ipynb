{
 "cells": [
  {
   "cell_type": "markdown",
   "metadata": {},
   "source": [
    "# Oracle Database Integration with Docker and Vector Storage Visualised in Voila, (Simple)\n",
    "\n",
    "This notebook demonstrates:\n",
    "1. Setting up Oracle Database using Docker\n",
    "2. Connecting to Oracle DB from Python\n",
    "3. Vector storage preparation\n",
    "4. Creating an interactive web interface with Voilà\n",
    "\n",
    "## Prerequisites\n",
    "- Docker installed\n",
    "- Python 3.8+\n",
    "- uv.docker access"
   ]
  },
  {
   "cell_type": "markdown",
   "metadata": {},
   "source": [
    "## 1. Environment Setup\n",
    "\n",
    "First, let's install required packages:"
   ]
  },
  {
   "cell_type": "code",
   "execution_count": 2,
   "metadata": {},
   "outputs": [],
   "source": [
    "# !pip install oracledb ipywidgets voila docker numpy pandas plotly matplotlib seaborn bokeh"
   ]
  },
  {
   "cell_type": "code",
   "execution_count": 3,
   "metadata": {},
   "outputs": [
    {
     "data": {
      "text/html": [
       "    <style>\n",
       "        .bk-notebook-logo {\n",
       "            display: block;\n",
       "            width: 20px;\n",
       "            height: 20px;\n",
       "            background-image: url(data:image/png;base64,iVBORw0KGgoAAAANSUhEUgAAABQAAAAUCAYAAACNiR0NAAAABHNCSVQICAgIfAhkiAAAAAlwSFlzAAALEgAACxIB0t1+/AAAABx0RVh0U29mdHdhcmUAQWRvYmUgRmlyZXdvcmtzIENTNui8sowAAAOkSURBVDiNjZRtaJVlGMd/1/08zzln5zjP1LWcU9N0NkN8m2CYjpgQYQXqSs0I84OLIC0hkEKoPtiH3gmKoiJDU7QpLgoLjLIQCpEsNJ1vqUOdO7ppbuec5+V+rj4ctwzd8IIbbi6u+8f1539dt3A78eXC7QizUF7gyV1fD1Yqg4JWz84yffhm0qkFqBogB9rM8tZdtwVsPUhWhGcFJngGeWrPzHm5oaMmkfEg1usvLFyc8jLRqDOMru7AyC8saQr7GG7f5fvDeH7Ej8CM66nIF+8yngt6HWaKh7k49Soy9nXurCi1o3qUbS3zWfrYeQDTB/Qj6kX6Ybhw4B+bOYoLKCC9H3Nu/leUTZ1JdRWkkn2ldcCamzrcf47KKXdAJllSlxAOkRgyHsGC/zRday5Qld9DyoM4/q/rUoy/CXh3jzOu3bHUVZeU+DEn8FInkPBFlu3+nW3Nw0mk6vCDiWg8CeJaxEwuHS3+z5RgY+YBR6V1Z1nxSOfoaPa4LASWxxdNp+VWTk7+4vzaou8v8PN+xo+KY2xsw6une2frhw05CTYOmQvsEhjhWjn0bmXPjpE1+kplmmkP3suftwTubK9Vq22qKmrBhpY4jvd5afdRA3wGjFAgcnTK2s4hY0/GPNIb0nErGMCRxWOOX64Z8RAC4oCXdklmEvcL8o0BfkNK4lUg9HTl+oPlQxdNo3Mg4Nv175e/1LDGzZen30MEjRUtmXSfiTVu1kK8W4txyV6BMKlbgk3lMwYCiusNy9fVfvvwMxv8Ynl6vxoByANLTWplvuj/nF9m2+PDtt1eiHPBr1oIfhCChQMBw6Aw0UulqTKZdfVvfG7VcfIqLG9bcldL/+pdWTLxLUy8Qq38heUIjh4XlzZxzQm19lLFlr8vdQ97rjZVOLf8nclzckbcD4wxXMidpX30sFd37Fv/GtwwhzhxGVAprjbg0gCAEeIgwCZyTV2Z1REEW8O4py0wsjeloKoMr6iCY6dP92H6Vw/oTyICIthibxjm/DfN9lVz8IqtqKYLUXfoKVMVQVVJOElGjrnnUt9T9wbgp8AyYKaGlqingHZU/uG2NTZSVqwHQTWkx9hxjkpWDaCg6Ckj5qebgBVbT3V3NNXMSiWSDdGV3hrtzla7J+duwPOToIg42ChPQOQjspnSlp1V+Gjdged7+8UN5CRAV7a5EdFNwCjEaBR27b3W890TE7g24NAP/mMDXRWrGoFPQI9ls/MWO2dWFAar/xcOIImbbpA3zgAAAABJRU5ErkJggg==);\n",
       "        }\n",
       "    </style>\n",
       "    <div>\n",
       "        <a href=\"https://bokeh.org\" target=\"_blank\" class=\"bk-notebook-logo\"></a>\n",
       "        <span id=\"f13ddf4b-c060-4a42-84d1-423ea76f4c6b\">Loading BokehJS ...</span>\n",
       "    </div>\n"
      ]
     },
     "metadata": {},
     "output_type": "display_data"
    },
    {
     "data": {
      "application/javascript": "'use strict';\n(function(root) {\n  function now() {\n    return new Date();\n  }\n\n  const force = true;\n\n  if (typeof root._bokeh_onload_callbacks === \"undefined\" || force === true) {\n    root._bokeh_onload_callbacks = [];\n    root._bokeh_is_loading = undefined;\n  }\n\nconst JS_MIME_TYPE = 'application/javascript';\n  const HTML_MIME_TYPE = 'text/html';\n  const EXEC_MIME_TYPE = 'application/vnd.bokehjs_exec.v0+json';\n  const CLASS_NAME = 'output_bokeh rendered_html';\n\n  /**\n   * Render data to the DOM node\n   */\n  function render(props, node) {\n    const script = document.createElement(\"script\");\n    node.appendChild(script);\n  }\n\n  /**\n   * Handle when an output is cleared or removed\n   */\n  function handleClearOutput(event, handle) {\n    function drop(id) {\n      const view = Bokeh.index.get_by_id(id)\n      if (view != null) {\n        view.model.document.clear()\n        Bokeh.index.delete(view)\n      }\n    }\n\n    const cell = handle.cell;\n\n    const id = cell.output_area._bokeh_element_id;\n    const server_id = cell.output_area._bokeh_server_id;\n\n    // Clean up Bokeh references\n    if (id != null) {\n      drop(id)\n    }\n\n    if (server_id !== undefined) {\n      // Clean up Bokeh references\n      const cmd_clean = \"from bokeh.io.state import curstate; print(curstate().uuid_to_server['\" + server_id + \"'].get_sessions()[0].document.roots[0]._id)\";\n      cell.notebook.kernel.execute(cmd_clean, {\n        iopub: {\n          output: function(msg) {\n            const id = msg.content.text.trim()\n            drop(id)\n          }\n        }\n      });\n      // Destroy server and session\n      const cmd_destroy = \"import bokeh.io.notebook as ion; ion.destroy_server('\" + server_id + \"')\";\n      cell.notebook.kernel.execute(cmd_destroy);\n    }\n  }\n\n  /**\n   * Handle when a new output is added\n   */\n  function handleAddOutput(event, handle) {\n    const output_area = handle.output_area;\n    const output = handle.output;\n\n    // limit handleAddOutput to display_data with EXEC_MIME_TYPE content only\n    if ((output.output_type != \"display_data\") || (!Object.prototype.hasOwnProperty.call(output.data, EXEC_MIME_TYPE))) {\n      return\n    }\n\n    const toinsert = output_area.element.find(\".\" + CLASS_NAME.split(' ')[0]);\n\n    if (output.metadata[EXEC_MIME_TYPE][\"id\"] !== undefined) {\n      toinsert[toinsert.length - 1].firstChild.textContent = output.data[JS_MIME_TYPE];\n      // store reference to embed id on output_area\n      output_area._bokeh_element_id = output.metadata[EXEC_MIME_TYPE][\"id\"];\n    }\n    if (output.metadata[EXEC_MIME_TYPE][\"server_id\"] !== undefined) {\n      const bk_div = document.createElement(\"div\");\n      bk_div.innerHTML = output.data[HTML_MIME_TYPE];\n      const script_attrs = bk_div.children[0].attributes;\n      for (let i = 0; i < script_attrs.length; i++) {\n        toinsert[toinsert.length - 1].firstChild.setAttribute(script_attrs[i].name, script_attrs[i].value);\n        toinsert[toinsert.length - 1].firstChild.textContent = bk_div.children[0].textContent\n      }\n      // store reference to server id on output_area\n      output_area._bokeh_server_id = output.metadata[EXEC_MIME_TYPE][\"server_id\"];\n    }\n  }\n\n  function register_renderer(events, OutputArea) {\n\n    function append_mime(data, metadata, element) {\n      // create a DOM node to render to\n      const toinsert = this.create_output_subarea(\n        metadata,\n        CLASS_NAME,\n        EXEC_MIME_TYPE\n      );\n      this.keyboard_manager.register_events(toinsert);\n      // Render to node\n      const props = {data: data, metadata: metadata[EXEC_MIME_TYPE]};\n      render(props, toinsert[toinsert.length - 1]);\n      element.append(toinsert);\n      return toinsert\n    }\n\n    /* Handle when an output is cleared or removed */\n    events.on('clear_output.CodeCell', handleClearOutput);\n    events.on('delete.Cell', handleClearOutput);\n\n    /* Handle when a new output is added */\n    events.on('output_added.OutputArea', handleAddOutput);\n\n    /**\n     * Register the mime type and append_mime function with output_area\n     */\n    OutputArea.prototype.register_mime_type(EXEC_MIME_TYPE, append_mime, {\n      /* Is output safe? */\n      safe: true,\n      /* Index of renderer in `output_area.display_order` */\n      index: 0\n    });\n  }\n\n  // register the mime type if in Jupyter Notebook environment and previously unregistered\n  if (root.Jupyter !== undefined) {\n    const events = require('base/js/events');\n    const OutputArea = require('notebook/js/outputarea').OutputArea;\n\n    if (OutputArea.prototype.mime_types().indexOf(EXEC_MIME_TYPE) == -1) {\n      register_renderer(events, OutputArea);\n    }\n  }\n  if (typeof (root._bokeh_timeout) === \"undefined\" || force === true) {\n    root._bokeh_timeout = Date.now() + 5000;\n    root._bokeh_failed_load = false;\n  }\n\n  const NB_LOAD_WARNING = {'data': {'text/html':\n     \"<div style='background-color: #fdd'>\\n\"+\n     \"<p>\\n\"+\n     \"BokehJS does not appear to have successfully loaded. If loading BokehJS from CDN, this \\n\"+\n     \"may be due to a slow or bad network connection. Possible fixes:\\n\"+\n     \"</p>\\n\"+\n     \"<ul>\\n\"+\n     \"<li>re-rerun `output_notebook()` to attempt to load from CDN again, or</li>\\n\"+\n     \"<li>use INLINE resources instead, as so:</li>\\n\"+\n     \"</ul>\\n\"+\n     \"<code>\\n\"+\n     \"from bokeh.resources import INLINE\\n\"+\n     \"output_notebook(resources=INLINE)\\n\"+\n     \"</code>\\n\"+\n     \"</div>\"}};\n\n  function display_loaded(error = null) {\n    const el = document.getElementById(\"f13ddf4b-c060-4a42-84d1-423ea76f4c6b\");\n    if (el != null) {\n      const html = (() => {\n        if (typeof root.Bokeh === \"undefined\") {\n          if (error == null) {\n            return \"BokehJS is loading ...\";\n          } else {\n            return \"BokehJS failed to load.\";\n          }\n        } else {\n          const prefix = `BokehJS ${root.Bokeh.version}`;\n          if (error == null) {\n            return `${prefix} successfully loaded.`;\n          } else {\n            return `${prefix} <b>encountered errors</b> while loading and may not function as expected.`;\n          }\n        }\n      })();\n      el.innerHTML = html;\n\n      if (error != null) {\n        const wrapper = document.createElement(\"div\");\n        wrapper.style.overflow = \"auto\";\n        wrapper.style.height = \"5em\";\n        wrapper.style.resize = \"vertical\";\n        const content = document.createElement(\"div\");\n        content.style.fontFamily = \"monospace\";\n        content.style.whiteSpace = \"pre-wrap\";\n        content.style.backgroundColor = \"rgb(255, 221, 221)\";\n        content.textContent = error.stack ?? error.toString();\n        wrapper.append(content);\n        el.append(wrapper);\n      }\n    } else if (Date.now() < root._bokeh_timeout) {\n      setTimeout(() => display_loaded(error), 100);\n    }\n  }\n\n  function run_callbacks() {\n    try {\n      root._bokeh_onload_callbacks.forEach(function(callback) {\n        if (callback != null)\n          callback();\n      });\n    } finally {\n      delete root._bokeh_onload_callbacks\n    }\n    console.debug(\"Bokeh: all callbacks have finished\");\n  }\n\n  function load_libs(css_urls, js_urls, callback) {\n    if (css_urls == null) css_urls = [];\n    if (js_urls == null) js_urls = [];\n\n    root._bokeh_onload_callbacks.push(callback);\n    if (root._bokeh_is_loading > 0) {\n      console.debug(\"Bokeh: BokehJS is being loaded, scheduling callback at\", now());\n      return null;\n    }\n    if (js_urls == null || js_urls.length === 0) {\n      run_callbacks();\n      return null;\n    }\n    console.debug(\"Bokeh: BokehJS not loaded, scheduling load and callback at\", now());\n    root._bokeh_is_loading = css_urls.length + js_urls.length;\n\n    function on_load() {\n      root._bokeh_is_loading--;\n      if (root._bokeh_is_loading === 0) {\n        console.debug(\"Bokeh: all BokehJS libraries/stylesheets loaded\");\n        run_callbacks()\n      }\n    }\n\n    function on_error(url) {\n      console.error(\"failed to load \" + url);\n    }\n\n    for (let i = 0; i < css_urls.length; i++) {\n      const url = css_urls[i];\n      const element = document.createElement(\"link\");\n      element.onload = on_load;\n      element.onerror = on_error.bind(null, url);\n      element.rel = \"stylesheet\";\n      element.type = \"text/css\";\n      element.href = url;\n      console.debug(\"Bokeh: injecting link tag for BokehJS stylesheet: \", url);\n      document.body.appendChild(element);\n    }\n\n    for (let i = 0; i < js_urls.length; i++) {\n      const url = js_urls[i];\n      const element = document.createElement('script');\n      element.onload = on_load;\n      element.onerror = on_error.bind(null, url);\n      element.async = false;\n      element.src = url;\n      console.debug(\"Bokeh: injecting script tag for BokehJS library: \", url);\n      document.head.appendChild(element);\n    }\n  };\n\n  function inject_raw_css(css) {\n    const element = document.createElement(\"style\");\n    element.appendChild(document.createTextNode(css));\n    document.body.appendChild(element);\n  }\n\n  const js_urls = [\"https://cdn.bokeh.org/bokeh/release/bokeh-3.7.3.min.js\", \"https://cdn.bokeh.org/bokeh/release/bokeh-gl-3.7.3.min.js\", \"https://cdn.bokeh.org/bokeh/release/bokeh-widgets-3.7.3.min.js\", \"https://cdn.bokeh.org/bokeh/release/bokeh-tables-3.7.3.min.js\", \"https://cdn.bokeh.org/bokeh/release/bokeh-mathjax-3.7.3.min.js\"];\n  const css_urls = [];\n\n  const inline_js = [    function(Bokeh) {\n      Bokeh.set_log_level(\"info\");\n    },\nfunction(Bokeh) {\n    }\n  ];\n\n  function run_inline_js() {\n    if (root.Bokeh !== undefined || force === true) {\n      try {\n            for (let i = 0; i < inline_js.length; i++) {\n      inline_js[i].call(root, root.Bokeh);\n    }\n\n      } catch (error) {display_loaded(error);throw error;\n      }if (force === true) {\n        display_loaded();\n      }} else if (Date.now() < root._bokeh_timeout) {\n      setTimeout(run_inline_js, 100);\n    } else if (!root._bokeh_failed_load) {\n      console.log(\"Bokeh: BokehJS failed to load within specified timeout.\");\n      root._bokeh_failed_load = true;\n    } else if (force !== true) {\n      const cell = $(document.getElementById(\"f13ddf4b-c060-4a42-84d1-423ea76f4c6b\")).parents('.cell').data().cell;\n      cell.output_area.append_execute_result(NB_LOAD_WARNING)\n    }\n  }\n\n  if (root._bokeh_is_loading === 0) {\n    console.debug(\"Bokeh: BokehJS loaded, going straight to plotting\");\n    run_inline_js();\n  } else {\n    load_libs(css_urls, js_urls, function() {\n      console.debug(\"Bokeh: BokehJS plotting callback run at\", now());\n      run_inline_js();\n    });\n  }\n}(window));",
      "application/vnd.bokehjs_load.v0+json": ""
     },
     "metadata": {},
     "output_type": "display_data"
    }
   ],
   "source": [
    "import oracledb\n",
    "import docker\n",
    "import ipywidgets as widgets\n",
    "from IPython.display import display, HTML\n",
    "import time\n",
    "import os\n",
    "import random\n",
    "from datetime import datetime, timedelta\n",
    "\n",
    "# Data analysis and visualization\n",
    "import pandas as pd\n",
    "import numpy as np\n",
    "import plotly.express as px\n",
    "import plotly.graph_objects as go\n",
    "import seaborn as sns\n",
    "import matplotlib.pyplot as plt\n",
    "from bokeh.plotting import figure, show\n",
    "from bokeh.io import output_notebook\n",
    "output_notebook()  # Enable Bokeh output in notebook"
   ]
  },
  {
   "cell_type": "markdown",
   "metadata": {},
   "source": [
    "### Setting up Oracle Database Container"
   ]
  },
  {
   "cell_type": "code",
   "execution_count": 4,
   "metadata": {},
   "outputs": [],
   "source": [
    "def setup_oracle_container():\n",
    "    client = docker.from_env()\n",
    "    \n",
    "    # Oracle DB container configuration\n",
    "    container_name = 'oracle-xe'\n",
    "    image_name = 'container-registry.oracle.com/database/express:21.3.0-xe'\n",
    "    \n",
    "    # Environment variables\n",
    "    environment = {\n",
    "        'ORACLE_PWD': 'your_secure_password',  # Change this!\n",
    "        'ORACLE_CHARACTERSET': 'AL32UTF8'\n",
    "    }\n",
    "    \n",
    "    # Volume configuration\n",
    "    volumes = {\n",
    "        'oracle_data': {'bind': '/opt/oracle/oradata', 'mode': 'rw'}\n",
    "    }\n",
    "    \n",
    "    # Ports configuration\n",
    "    ports = {\n",
    "        '1521/tcp': 1521  # Oracle listener port\n",
    "    }\n",
    "    \n",
    "    try:\n",
    "        # Check if container already exists\n",
    "        try:\n",
    "            existing_container = client.containers.get(container_name)\n",
    "            \n",
    "            # If container exists but is not running, remove it\n",
    "            if existing_container.status != 'running':\n",
    "                print(f\"Removing stopped container {container_name}...\")\n",
    "                existing_container.remove(force=True)\n",
    "            else:\n",
    "                print(f\"Container {container_name} is already running\")\n",
    "                return existing_container\n",
    "                \n",
    "        except docker.errors.NotFound:\n",
    "            # Container doesn't exist, proceed with creation\n",
    "            pass\n",
    "        \n",
    "        # Pull the image\n",
    "        print(\"Pulling Oracle Database image...\")\n",
    "        try:\n",
    "            client.images.pull(image_name)\n",
    "        except docker.errors.APIError as e:\n",
    "            if 'authentication required' in str(e).lower():\n",
    "                print(\"Error: Authentication required for Oracle Container Registry.\")\n",
    "                print(\"Please visit https://container-registry.oracle.com and create an account\")\n",
    "                print(\"Then run: docker login container-registry.oracle.com\")\n",
    "                return None\n",
    "            raise\n",
    "        \n",
    "        # Create and start the container\n",
    "        container = client.containers.run(\n",
    "            image_name,\n",
    "            name=container_name,\n",
    "            environment=environment,\n",
    "            volumes=volumes,\n",
    "            ports=ports,\n",
    "            detach=True\n",
    "        )\n",
    "        \n",
    "        print(\"Container started. Waiting for database initialization...\")\n",
    "        \n",
    "        # Wait for database to initialize (check logs for readiness)\n",
    "        max_wait = 300  # 5 minutes timeout\n",
    "        start_time = time.time()\n",
    "        while time.time() - start_time < max_wait:\n",
    "            logs = container.logs().decode('utf-8')\n",
    "            if \"DATABASE IS READY TO USE!\" in logs:\n",
    "                print(\"Database is ready!\")\n",
    "                return container\n",
    "            time.sleep(10)\n",
    "            \n",
    "        print(\"Warning: Database initialization timeout reached\")\n",
    "        return container\n",
    "    \n",
    "    except Exception as e:\n",
    "        print(f\"Error: {str(e)}\")\n",
    "        print(\"\\nTroubleshooting steps:\")\n",
    "        print(\"1. Check if Docker is running\")\n",
    "        print(\"2. Verify Oracle Container Registry credentials\")\n",
    "        print(\"3. Ensure ports are not in use (netstat -an | grep 1521)\")\n",
    "        print(\"4. Check available disk space (df -h)\")\n",
    "        return None"
   ]
  },
  {
   "cell_type": "markdown",
   "metadata": {},
   "source": [
    "### Initialize Oracle Container"
   ]
  },
  {
   "cell_type": "code",
   "execution_count": 5,
   "metadata": {},
   "outputs": [
    {
     "name": "stdout",
     "output_type": "stream",
     "text": [
      "Container oracle-xe is already running\n"
     ]
    }
   ],
   "source": [
    "container = setup_oracle_container()"
   ]
  },
  {
   "cell_type": "markdown",
   "metadata": {},
   "source": [
    "## 2. Database Connection Setup"
   ]
  },
  {
   "cell_type": "code",
   "execution_count": 6,
   "metadata": {},
   "outputs": [],
   "source": [
    "def create_connection():\n",
    "    try:\n",
    "        connection = oracledb.connect(\n",
    "            user=\"system\",\n",
    "            password=\"your_secure_password\",  # Same as ORACLE_PWD\n",
    "            dsn=\"localhost:1521/XEPDB1\"\n",
    "        )\n",
    "        return connection\n",
    "    except Exception as e:\n",
    "        print(f\"Connection error: {str(e)}\")\n",
    "        return None\n",
    "\n",
    "# Test connection\n",
    "def test_connection():\n",
    "    connection = create_connection()\n",
    "    if connection:\n",
    "        with connection.cursor() as cursor:\n",
    "            cursor.execute(\"SELECT 1 FROM DUAL\")\n",
    "            result = cursor.fetchone()\n",
    "            print(\"Connection successful!\", result)\n",
    "        connection.close()\n",
    "    else:\n",
    "        print(\"Connection failed!\")"
   ]
  },
  {
   "cell_type": "code",
   "execution_count": 7,
   "metadata": {},
   "outputs": [
    {
     "name": "stdout",
     "output_type": "stream",
     "text": [
      "Connection successful! (1,)\n"
     ]
    }
   ],
   "source": [
    "test_connection()"
   ]
  },
  {
   "cell_type": "markdown",
   "metadata": {},
   "source": [
    "## 3. Vector Storage Preparation\n",
    "\n",
    "Create a table for storing vector embeddings using BLOB type:"
   ]
  },
  {
   "cell_type": "code",
   "execution_count": 8,
   "metadata": {},
   "outputs": [],
   "source": [
    "def setup_vector_storage():\n",
    "    connection = create_connection()\n",
    "    if connection:\n",
    "        with connection.cursor() as cursor:\n",
    "            # Create table for vector storage\n",
    "            cursor.execute(\"\"\"\n",
    "                CREATE TABLE vector_embeddings (\n",
    "                    id NUMBER GENERATED ALWAYS AS IDENTITY,\n",
    "                    text_data VARCHAR2(4000),\n",
    "                    embedding BLOB,\n",
    "                    created_at TIMESTAMP DEFAULT CURRENT_TIMESTAMP,\n",
    "                    PRIMARY KEY (id)\n",
    "                )\n",
    "            \"\"\")\n",
    "        connection.commit()\n",
    "        connection.close()\n",
    "        print(\"Vector storage table created successfully!\")"
   ]
  },
  {
   "cell_type": "markdown",
   "metadata": {},
   "source": [
    "## Data Generation and Table Creation Utilities\n",
    "\n",
    "This section provides utilities for:\n",
    "\n",
    "1. **Generating Dummy Data**\n",
    "   - Configurable number of records\n",
    "   - Support for various data types:\n",
    "     - Strings (categorical or free text)\n",
    "     - Integers\n",
    "     - Floats\n",
    "     - Dates\n",
    "     - Vector embeddings\n",
    "   - Control over NULL values\n",
    "   - Custom ranges and choices\n",
    "\n",
    "2. **Table Creation**\n",
    "   - Automatic schema generation from DataFrame\n",
    "   - Proper handling of vector data as BLOB\n",
    "   - Support for various Oracle data types\n",
    "   - Automatic ID generation\n",
    "   - Timestamp tracking"
   ]
  },
  {
   "cell_type": "code",
   "execution_count": 9,
   "metadata": {},
   "outputs": [],
   "source": [
    "def generate_dummy_data(config=None):\n",
    "    \"\"\"\n",
    "    Generate dummy data based on configuration\n",
    "    \"\"\"\n",
    "    if config is None:\n",
    "        # Default configuration\n",
    "        config = {\n",
    "            'num_records': 100,\n",
    "            'fields': {\n",
    "                'text_content': {\n",
    "                    'type': 'string',\n",
    "                    'choices': ['Sample text A', 'Sample text B', 'Sample text C'],\n",
    "                    'null_prob': 0.1\n",
    "                },\n",
    "                'category': {\n",
    "                    'type': 'string',\n",
    "                    'choices': ['cat1', 'cat2', 'cat3'],\n",
    "                    'null_prob': 0.05\n",
    "                },\n",
    "                'value': {\n",
    "                    'type': 'float',\n",
    "                    'min': 0,\n",
    "                    'max': 100,\n",
    "                    'null_prob': 0.1\n",
    "                },\n",
    "                'count': {\n",
    "                    'type': 'int',\n",
    "                    'min': 1,\n",
    "                    'max': 1000,\n",
    "                    'null_prob': 0\n",
    "                },\n",
    "                'embedding': {\n",
    "                    'type': 'vector',\n",
    "                    'vector_dim': 128,\n",
    "                    'null_prob': 0\n",
    "                },\n",
    "                'created_date': {\n",
    "                    'type': 'date',\n",
    "                    'min': '2025-01-01',\n",
    "                    'max': '2025-12-31',\n",
    "                    'null_prob': 0\n",
    "                }\n",
    "            }\n",
    "        }\n",
    "    \n",
    "    data = []\n",
    "    for _ in range(config['num_records']):\n",
    "        record = {}\n",
    "        for field_name, field_config in config['fields'].items():\n",
    "            # Check for NULL value\n",
    "            if random.random() < field_config.get('null_prob', 0):\n",
    "                record[field_name] = None\n",
    "                continue\n",
    "                \n",
    "            field_type = field_config['type']\n",
    "            if field_type == 'string':\n",
    "                choices = field_config.get('choices', ['dummy_value'])\n",
    "                record[field_name] = random.choice(choices)\n",
    "            \n",
    "            elif field_type == 'int':\n",
    "                min_val = field_config.get('min', 0)\n",
    "                max_val = field_config.get('max', 100)\n",
    "                record[field_name] = random.randint(min_val, max_val)\n",
    "            \n",
    "            elif field_type == 'float':\n",
    "                min_val = field_config.get('min', 0)\n",
    "                max_val = field_config.get('max', 100)\n",
    "                record[field_name] = random.uniform(min_val, max_val)\n",
    "            \n",
    "            elif field_type == 'date':\n",
    "                min_date = datetime.strptime(field_config.get('min', '2025-01-01'), '%Y-%m-%d')\n",
    "                max_date = datetime.strptime(field_config.get('max', '2025-12-31'), '%Y-%m-%d')\n",
    "                days_between = (max_date - min_date).days\n",
    "                random_days = random.randint(0, days_between)\n",
    "                record[field_name] = min_date + timedelta(days=random_days)\n",
    "            \n",
    "            elif field_type == 'vector':\n",
    "                dim = field_config.get('vector_dim', 128)\n",
    "                vector = np.random.randn(dim)\n",
    "                # Normalize the vector\n",
    "                record[field_name] = vector / np.linalg.norm(vector)\n",
    "        \n",
    "        data.append(record)\n",
    "    \n",
    "    return pd.DataFrame(data)\n",
    "\n",
    "def generate_create_table_sql(df, table_name, vector_cols=None):\n",
    "    \"\"\"\n",
    "    Generate CREATE TABLE SQL statement based on DataFrame schema\n",
    "    \"\"\"\n",
    "    type_mapping = {\n",
    "        'object': 'VARCHAR2(4000)',\n",
    "        'int64': 'NUMBER',\n",
    "        'float64': 'FLOAT',\n",
    "        'datetime64[ns]': 'TIMESTAMP',\n",
    "        'bool': 'NUMBER(1)',\n",
    "    }\n",
    "    \n",
    "    if vector_cols is None:\n",
    "        vector_cols = []\n",
    "    \n",
    "    columns = []\n",
    "    for col in df.columns:\n",
    "        if col in vector_cols:\n",
    "            col_type = 'BLOB'\n",
    "        else:\n",
    "            dtype = str(df[col].dtype)\n",
    "            col_type = type_mapping.get(dtype, 'VARCHAR2(4000)')\n",
    "        \n",
    "        # Add NOT NULL if the column has no null values\n",
    "        null_constraint = 'NOT NULL' if not df[col].isnull().any() else ''\n",
    "        columns.append(f\"{col} {col_type} {null_constraint}\")\n",
    "    \n",
    "    create_sql = f\"\"\"\n",
    "    CREATE TABLE {table_name} (\n",
    "        id NUMBER GENERATED ALWAYS AS IDENTITY PRIMARY KEY,\n",
    "        {',\\n        '.join(columns)},\n",
    "        created_at TIMESTAMP DEFAULT CURRENT_TIMESTAMP\n",
    "    )\n",
    "    \"\"\"\n",
    "    return create_sql\n",
    "\n",
    "def create_table_from_data(df, table_name, vector_cols=None, connection=None):\n",
    "    \"\"\"\n",
    "    Create table and insert data from DataFrame\n",
    "    \"\"\"\n",
    "    if connection is None:\n",
    "        connection = create_connection()\n",
    "    \n",
    "    if connection:\n",
    "        try:\n",
    "            cursor = connection.cursor()\n",
    "            \n",
    "            # Create table\n",
    "            create_sql = generate_create_table_sql(df, table_name, vector_cols)\n",
    "            cursor.execute(create_sql)\n",
    "            \n",
    "            # Prepare insert statement\n",
    "            columns = df.columns\n",
    "            placeholders = ','.join([':' + str(i+1) for i in range(len(columns))])\n",
    "            insert_sql = f\"INSERT INTO {table_name} ({','.join(columns)}) VALUES ({placeholders})\"\n",
    "            \n",
    "            # Insert data\n",
    "            for _, row in df.iterrows():\n",
    "                values = []\n",
    "                for col in columns:\n",
    "                    if col in vector_cols:\n",
    "                        # Convert numpy array to bytes for BLOB storage\n",
    "                        values.append(row[col].tobytes())\n",
    "                    else:\n",
    "                        values.append(row[col])\n",
    "                cursor.execute(insert_sql, values)\n",
    "            \n",
    "            connection.commit()\n",
    "            print(f\"Successfully created table {table_name} and inserted {len(df)} records\")\n",
    "            \n",
    "        except Exception as e:\n",
    "            print(f\"Error: {str(e)}\")\n",
    "            connection.rollback()\n",
    "        finally:\n",
    "            connection.close()"
   ]
  },
  {
   "cell_type": "code",
   "execution_count": 10,
   "metadata": {},
   "outputs": [],
   "source": [
    "def get_table_schema(table_name, connection=None):\n",
    "    \"\"\"\n",
    "    Get detailed schema information for a table\n",
    "    \"\"\"\n",
    "    if connection is None:\n",
    "        connection = create_connection()\n",
    "    \n",
    "    if connection:\n",
    "        try:\n",
    "            # Get column information\n",
    "            columns_query = \"\"\"\n",
    "            SELECT column_name, data_type, data_length, nullable, data_precision, data_scale\n",
    "            FROM user_tab_columns\n",
    "            WHERE table_name = :1\n",
    "            ORDER BY column_id\n",
    "            \"\"\"\n",
    "            \n",
    "            # Get constraint information\n",
    "            constraints_query = \"\"\"\n",
    "            SELECT constraint_name, constraint_type, search_condition, r_owner, r_constraint_name\n",
    "            FROM user_constraints\n",
    "            WHERE table_name = :1\n",
    "            \"\"\"\n",
    "            \n",
    "            # Get index information\n",
    "            indexes_query = \"\"\"\n",
    "            SELECT index_name, uniqueness, index_type\n",
    "            FROM user_indexes\n",
    "            WHERE table_name = :1\n",
    "            \"\"\"\n",
    "            \n",
    "            with connection.cursor() as cursor:\n",
    "                # Get columns\n",
    "                cursor.execute(columns_query, [table_name.upper()])\n",
    "                columns = pd.DataFrame(cursor.fetchall(), \n",
    "                                     columns=['Column', 'Type', 'Length', 'Nullable', 'Precision', 'Scale'])\n",
    "                \n",
    "                # Get constraints\n",
    "                cursor.execute(constraints_query, [table_name.upper()])\n",
    "                constraints = pd.DataFrame(cursor.fetchall(),\n",
    "                                        columns=['Name', 'Type', 'Condition', 'Ref_Owner', 'Ref_Constraint'])\n",
    "                \n",
    "                # Get indexes\n",
    "                cursor.execute(indexes_query, [table_name.upper()])\n",
    "                indexes = pd.DataFrame(cursor.fetchall(),\n",
    "                                     columns=['Name', 'Uniqueness', 'Type'])\n",
    "                \n",
    "                return {\n",
    "                    'columns': columns,\n",
    "                    'constraints': constraints,\n",
    "                    'indexes': indexes\n",
    "                }\n",
    "        \n",
    "        except Exception as e:\n",
    "            print(f\"Error getting schema: {str(e)}\")\n",
    "            return None\n",
    "        finally:\n",
    "            connection.close()\n",
    "    return None\n",
    "\n",
    "def create_standard_tables():\n",
    "    \"\"\"\n",
    "    Create a set of standardized tables for common use cases\n",
    "    \"\"\"\n",
    "    # Document Store table\n",
    "    doc_store_config = {\n",
    "        'num_records': 0,  # No initial records\n",
    "        'fields': {\n",
    "            'title': {\n",
    "                'type': 'string',\n",
    "                'null_prob': 0.0\n",
    "            },\n",
    "            'content': {\n",
    "                'type': 'string',\n",
    "                'null_prob': 0.0\n",
    "            },\n",
    "            'doc_type': {\n",
    "                'type': 'string',\n",
    "                'choices': ['article', 'report', 'paper', 'note'],\n",
    "                'null_prob': 0.0\n",
    "            },\n",
    "            'embedding': {\n",
    "                'type': 'vector',\n",
    "                'vector_dim': 384,  # Standard BERT embedding size\n",
    "                'null_prob': 0.0\n",
    "            },\n",
    "            'metadata': {\n",
    "                'type': 'string',  # JSON string\n",
    "                'null_prob': 0.1\n",
    "            }\n",
    "        }\n",
    "    }\n",
    "    \n",
    "    # Time Series table\n",
    "    timeseries_config = {\n",
    "        'num_records': 0,\n",
    "        'fields': {\n",
    "            'timestamp': {\n",
    "                'type': 'date',\n",
    "                'null_prob': 0.0\n",
    "            },\n",
    "            'metric_name': {\n",
    "                'type': 'string',\n",
    "                'null_prob': 0.0\n",
    "            },\n",
    "            'value': {\n",
    "                'type': 'float',\n",
    "                'null_prob': 0.0\n",
    "            },\n",
    "            'dimensions': {\n",
    "                'type': 'string',  # JSON string for dimensions\n",
    "                'null_prob': 0.1\n",
    "            }\n",
    "        }\n",
    "    }\n",
    "    \n",
    "    # Entity table\n",
    "    entity_config = {\n",
    "        'num_records': 0,\n",
    "        'fields': {\n",
    "            'entity_type': {\n",
    "                'type': 'string',\n",
    "                'choices': ['person', 'organization', 'location'],\n",
    "                'null_prob': 0.0\n",
    "            },\n",
    "            'name': {\n",
    "                'type': 'string',\n",
    "                'null_prob': 0.0\n",
    "            },\n",
    "            'attributes': {\n",
    "                'type': 'string',  # JSON string\n",
    "                'null_prob': 0.1\n",
    "            },\n",
    "            'embedding': {\n",
    "                'type': 'vector',\n",
    "                'vector_dim': 256,\n",
    "                'null_prob': 0.0\n",
    "            }\n",
    "        }\n",
    "    }\n",
    "    \n",
    "    # Create empty DataFrames and tables\n",
    "    tables = {\n",
    "        'document_store': (generate_dummy_data(doc_store_config), ['embedding']),\n",
    "        'time_series': (generate_dummy_data(timeseries_config), []),\n",
    "        'entities': (generate_dummy_data(entity_config), ['embedding'])\n",
    "    }\n",
    "    \n",
    "    for table_name, (df, vector_cols) in tables.items():\n",
    "        try:\n",
    "            create_table_from_data(df, table_name, vector_cols)\n",
    "            print(f\"Created standard table: {table_name}\")\n",
    "            \n",
    "            # Display schema\n",
    "            schema = get_table_schema(table_name)\n",
    "            if schema:\n",
    "                print(f\"\\nSchema for {table_name}:\")\n",
    "                display(schema['columns'])\n",
    "                if not schema['constraints'].empty:\n",
    "                    print(\"\\nConstraints:\")\n",
    "                    display(schema['constraints'])\n",
    "                if not schema['indexes'].empty:\n",
    "                    print(\"\\nIndexes:\")\n",
    "                    display(schema['indexes'])\n",
    "        except Exception as e:\n",
    "            print(f\"Error creating {table_name}: {str(e)}\")"
   ]
  },
  {
   "cell_type": "markdown",
   "metadata": {},
   "source": [
    "## 4. Interactive Web Interface with Voilà"
   ]
  },
  {
   "cell_type": "code",
   "execution_count": 11,
   "metadata": {},
   "outputs": [
    {
     "data": {
      "application/vnd.jupyter.widget-view+json": {
       "model_id": "8f70b8aab6044ebe90d9f4e6b2bc7560",
       "version_major": 2,
       "version_minor": 0
      },
      "text/plain": [
       "VBox(children=(Text(value='', description='Query:', placeholder='Enter your SQL query'), Button(description='E…"
      ]
     },
     "metadata": {},
     "output_type": "display_data"
    }
   ],
   "source": [
    "# Basic interface for running SQL queries and visualizing results\n",
    "\n",
    "def create_interface():\n",
    "    # Create widgets\n",
    "    query_input = widgets.Text(\n",
    "        value='',\n",
    "        placeholder='Enter your SQL query',\n",
    "        description='Query:',\n",
    "        disabled=False\n",
    "    )\n",
    "    \n",
    "    output = widgets.Output()\n",
    "    \n",
    "    def on_button_clicked(b):\n",
    "        with output:\n",
    "            output.clear_output()\n",
    "            connection = create_connection()\n",
    "            if connection:\n",
    "                try:\n",
    "                    with connection.cursor() as cursor:\n",
    "                        cursor.execute(query_input.value)\n",
    "                        results = cursor.fetchall()\n",
    "                        for row in results:\n",
    "                            print(row)\n",
    "                except Exception as e:\n",
    "                    print(f\"Error: {str(e)}\")\n",
    "                finally:\n",
    "                    connection.close()\n",
    "    \n",
    "    button = widgets.Button(description=\"Execute Query\")\n",
    "    button.on_click(on_button_clicked)\n",
    "    \n",
    "    # Display widgets\n",
    "    display(widgets.VBox([query_input, button, output]))\n",
    "\n",
    "# Create the interface\n",
    "create_interface()"
   ]
  },
  {
   "cell_type": "code",
   "execution_count": 12,
   "metadata": {},
   "outputs": [
    {
     "data": {
      "application/vnd.plotly.v1+json": {
       "config": {
        "plotlyServerURL": "https://plot.ly"
       },
       "data": [
        {
         "hovertemplate": "table_name=%{x}<br>num_rows=%{y}<extra></extra>",
         "legendgroup": "",
         "marker": {
          "color": "#636efa",
          "pattern": {
           "shape": ""
          }
         },
         "name": "",
         "orientation": "v",
         "showlegend": false,
         "textposition": "auto",
         "type": "bar",
         "x": [
          "MVIEW$_ADV_PARAMETERS",
          "AQ$_QUEUES",
          "REPL_VALID_COMPAT",
          "REPL_SUPPORT_MATRIX",
          "AQ$_QUEUE_TABLES",
          "AQ$_INTERNET_AGENTS",
          "AQ$_INTERNET_AGENT_PRIVS",
          "HELP",
          "REDO_DB",
          "LOGSTDBY$SKIP_SUPPORT"
         ],
         "xaxis": "x",
         "y": {
          "bdata": "KAAYAAEAUgAMAAYABADSAwEApAI=",
          "dtype": "i2"
         },
         "yaxis": "y"
        }
       ],
       "layout": {
        "barmode": "relative",
        "legend": {
         "tracegroupgap": 0
        },
        "template": {
         "data": {
          "bar": [
           {
            "error_x": {
             "color": "#2a3f5f"
            },
            "error_y": {
             "color": "#2a3f5f"
            },
            "marker": {
             "line": {
              "color": "#E5ECF6",
              "width": 0.5
             },
             "pattern": {
              "fillmode": "overlay",
              "size": 10,
              "solidity": 0.2
             }
            },
            "type": "bar"
           }
          ],
          "barpolar": [
           {
            "marker": {
             "line": {
              "color": "#E5ECF6",
              "width": 0.5
             },
             "pattern": {
              "fillmode": "overlay",
              "size": 10,
              "solidity": 0.2
             }
            },
            "type": "barpolar"
           }
          ],
          "carpet": [
           {
            "aaxis": {
             "endlinecolor": "#2a3f5f",
             "gridcolor": "white",
             "linecolor": "white",
             "minorgridcolor": "white",
             "startlinecolor": "#2a3f5f"
            },
            "baxis": {
             "endlinecolor": "#2a3f5f",
             "gridcolor": "white",
             "linecolor": "white",
             "minorgridcolor": "white",
             "startlinecolor": "#2a3f5f"
            },
            "type": "carpet"
           }
          ],
          "choropleth": [
           {
            "colorbar": {
             "outlinewidth": 0,
             "ticks": ""
            },
            "type": "choropleth"
           }
          ],
          "contour": [
           {
            "colorbar": {
             "outlinewidth": 0,
             "ticks": ""
            },
            "colorscale": [
             [
              0,
              "#0d0887"
             ],
             [
              0.1111111111111111,
              "#46039f"
             ],
             [
              0.2222222222222222,
              "#7201a8"
             ],
             [
              0.3333333333333333,
              "#9c179e"
             ],
             [
              0.4444444444444444,
              "#bd3786"
             ],
             [
              0.5555555555555556,
              "#d8576b"
             ],
             [
              0.6666666666666666,
              "#ed7953"
             ],
             [
              0.7777777777777778,
              "#fb9f3a"
             ],
             [
              0.8888888888888888,
              "#fdca26"
             ],
             [
              1,
              "#f0f921"
             ]
            ],
            "type": "contour"
           }
          ],
          "contourcarpet": [
           {
            "colorbar": {
             "outlinewidth": 0,
             "ticks": ""
            },
            "type": "contourcarpet"
           }
          ],
          "heatmap": [
           {
            "colorbar": {
             "outlinewidth": 0,
             "ticks": ""
            },
            "colorscale": [
             [
              0,
              "#0d0887"
             ],
             [
              0.1111111111111111,
              "#46039f"
             ],
             [
              0.2222222222222222,
              "#7201a8"
             ],
             [
              0.3333333333333333,
              "#9c179e"
             ],
             [
              0.4444444444444444,
              "#bd3786"
             ],
             [
              0.5555555555555556,
              "#d8576b"
             ],
             [
              0.6666666666666666,
              "#ed7953"
             ],
             [
              0.7777777777777778,
              "#fb9f3a"
             ],
             [
              0.8888888888888888,
              "#fdca26"
             ],
             [
              1,
              "#f0f921"
             ]
            ],
            "type": "heatmap"
           }
          ],
          "histogram": [
           {
            "marker": {
             "pattern": {
              "fillmode": "overlay",
              "size": 10,
              "solidity": 0.2
             }
            },
            "type": "histogram"
           }
          ],
          "histogram2d": [
           {
            "colorbar": {
             "outlinewidth": 0,
             "ticks": ""
            },
            "colorscale": [
             [
              0,
              "#0d0887"
             ],
             [
              0.1111111111111111,
              "#46039f"
             ],
             [
              0.2222222222222222,
              "#7201a8"
             ],
             [
              0.3333333333333333,
              "#9c179e"
             ],
             [
              0.4444444444444444,
              "#bd3786"
             ],
             [
              0.5555555555555556,
              "#d8576b"
             ],
             [
              0.6666666666666666,
              "#ed7953"
             ],
             [
              0.7777777777777778,
              "#fb9f3a"
             ],
             [
              0.8888888888888888,
              "#fdca26"
             ],
             [
              1,
              "#f0f921"
             ]
            ],
            "type": "histogram2d"
           }
          ],
          "histogram2dcontour": [
           {
            "colorbar": {
             "outlinewidth": 0,
             "ticks": ""
            },
            "colorscale": [
             [
              0,
              "#0d0887"
             ],
             [
              0.1111111111111111,
              "#46039f"
             ],
             [
              0.2222222222222222,
              "#7201a8"
             ],
             [
              0.3333333333333333,
              "#9c179e"
             ],
             [
              0.4444444444444444,
              "#bd3786"
             ],
             [
              0.5555555555555556,
              "#d8576b"
             ],
             [
              0.6666666666666666,
              "#ed7953"
             ],
             [
              0.7777777777777778,
              "#fb9f3a"
             ],
             [
              0.8888888888888888,
              "#fdca26"
             ],
             [
              1,
              "#f0f921"
             ]
            ],
            "type": "histogram2dcontour"
           }
          ],
          "mesh3d": [
           {
            "colorbar": {
             "outlinewidth": 0,
             "ticks": ""
            },
            "type": "mesh3d"
           }
          ],
          "parcoords": [
           {
            "line": {
             "colorbar": {
              "outlinewidth": 0,
              "ticks": ""
             }
            },
            "type": "parcoords"
           }
          ],
          "pie": [
           {
            "automargin": true,
            "type": "pie"
           }
          ],
          "scatter": [
           {
            "fillpattern": {
             "fillmode": "overlay",
             "size": 10,
             "solidity": 0.2
            },
            "type": "scatter"
           }
          ],
          "scatter3d": [
           {
            "line": {
             "colorbar": {
              "outlinewidth": 0,
              "ticks": ""
             }
            },
            "marker": {
             "colorbar": {
              "outlinewidth": 0,
              "ticks": ""
             }
            },
            "type": "scatter3d"
           }
          ],
          "scattercarpet": [
           {
            "marker": {
             "colorbar": {
              "outlinewidth": 0,
              "ticks": ""
             }
            },
            "type": "scattercarpet"
           }
          ],
          "scattergeo": [
           {
            "marker": {
             "colorbar": {
              "outlinewidth": 0,
              "ticks": ""
             }
            },
            "type": "scattergeo"
           }
          ],
          "scattergl": [
           {
            "marker": {
             "colorbar": {
              "outlinewidth": 0,
              "ticks": ""
             }
            },
            "type": "scattergl"
           }
          ],
          "scattermap": [
           {
            "marker": {
             "colorbar": {
              "outlinewidth": 0,
              "ticks": ""
             }
            },
            "type": "scattermap"
           }
          ],
          "scattermapbox": [
           {
            "marker": {
             "colorbar": {
              "outlinewidth": 0,
              "ticks": ""
             }
            },
            "type": "scattermapbox"
           }
          ],
          "scatterpolar": [
           {
            "marker": {
             "colorbar": {
              "outlinewidth": 0,
              "ticks": ""
             }
            },
            "type": "scatterpolar"
           }
          ],
          "scatterpolargl": [
           {
            "marker": {
             "colorbar": {
              "outlinewidth": 0,
              "ticks": ""
             }
            },
            "type": "scatterpolargl"
           }
          ],
          "scatterternary": [
           {
            "marker": {
             "colorbar": {
              "outlinewidth": 0,
              "ticks": ""
             }
            },
            "type": "scatterternary"
           }
          ],
          "surface": [
           {
            "colorbar": {
             "outlinewidth": 0,
             "ticks": ""
            },
            "colorscale": [
             [
              0,
              "#0d0887"
             ],
             [
              0.1111111111111111,
              "#46039f"
             ],
             [
              0.2222222222222222,
              "#7201a8"
             ],
             [
              0.3333333333333333,
              "#9c179e"
             ],
             [
              0.4444444444444444,
              "#bd3786"
             ],
             [
              0.5555555555555556,
              "#d8576b"
             ],
             [
              0.6666666666666666,
              "#ed7953"
             ],
             [
              0.7777777777777778,
              "#fb9f3a"
             ],
             [
              0.8888888888888888,
              "#fdca26"
             ],
             [
              1,
              "#f0f921"
             ]
            ],
            "type": "surface"
           }
          ],
          "table": [
           {
            "cells": {
             "fill": {
              "color": "#EBF0F8"
             },
             "line": {
              "color": "white"
             }
            },
            "header": {
             "fill": {
              "color": "#C8D4E3"
             },
             "line": {
              "color": "white"
             }
            },
            "type": "table"
           }
          ]
         },
         "layout": {
          "annotationdefaults": {
           "arrowcolor": "#2a3f5f",
           "arrowhead": 0,
           "arrowwidth": 1
          },
          "autotypenumbers": "strict",
          "coloraxis": {
           "colorbar": {
            "outlinewidth": 0,
            "ticks": ""
           }
          },
          "colorscale": {
           "diverging": [
            [
             0,
             "#8e0152"
            ],
            [
             0.1,
             "#c51b7d"
            ],
            [
             0.2,
             "#de77ae"
            ],
            [
             0.3,
             "#f1b6da"
            ],
            [
             0.4,
             "#fde0ef"
            ],
            [
             0.5,
             "#f7f7f7"
            ],
            [
             0.6,
             "#e6f5d0"
            ],
            [
             0.7,
             "#b8e186"
            ],
            [
             0.8,
             "#7fbc41"
            ],
            [
             0.9,
             "#4d9221"
            ],
            [
             1,
             "#276419"
            ]
           ],
           "sequential": [
            [
             0,
             "#0d0887"
            ],
            [
             0.1111111111111111,
             "#46039f"
            ],
            [
             0.2222222222222222,
             "#7201a8"
            ],
            [
             0.3333333333333333,
             "#9c179e"
            ],
            [
             0.4444444444444444,
             "#bd3786"
            ],
            [
             0.5555555555555556,
             "#d8576b"
            ],
            [
             0.6666666666666666,
             "#ed7953"
            ],
            [
             0.7777777777777778,
             "#fb9f3a"
            ],
            [
             0.8888888888888888,
             "#fdca26"
            ],
            [
             1,
             "#f0f921"
            ]
           ],
           "sequentialminus": [
            [
             0,
             "#0d0887"
            ],
            [
             0.1111111111111111,
             "#46039f"
            ],
            [
             0.2222222222222222,
             "#7201a8"
            ],
            [
             0.3333333333333333,
             "#9c179e"
            ],
            [
             0.4444444444444444,
             "#bd3786"
            ],
            [
             0.5555555555555556,
             "#d8576b"
            ],
            [
             0.6666666666666666,
             "#ed7953"
            ],
            [
             0.7777777777777778,
             "#fb9f3a"
            ],
            [
             0.8888888888888888,
             "#fdca26"
            ],
            [
             1,
             "#f0f921"
            ]
           ]
          },
          "colorway": [
           "#636efa",
           "#EF553B",
           "#00cc96",
           "#ab63fa",
           "#FFA15A",
           "#19d3f3",
           "#FF6692",
           "#B6E880",
           "#FF97FF",
           "#FECB52"
          ],
          "font": {
           "color": "#2a3f5f"
          },
          "geo": {
           "bgcolor": "white",
           "lakecolor": "white",
           "landcolor": "#E5ECF6",
           "showlakes": true,
           "showland": true,
           "subunitcolor": "white"
          },
          "hoverlabel": {
           "align": "left"
          },
          "hovermode": "closest",
          "mapbox": {
           "style": "light"
          },
          "paper_bgcolor": "white",
          "plot_bgcolor": "#E5ECF6",
          "polar": {
           "angularaxis": {
            "gridcolor": "white",
            "linecolor": "white",
            "ticks": ""
           },
           "bgcolor": "#E5ECF6",
           "radialaxis": {
            "gridcolor": "white",
            "linecolor": "white",
            "ticks": ""
           }
          },
          "scene": {
           "xaxis": {
            "backgroundcolor": "#E5ECF6",
            "gridcolor": "white",
            "gridwidth": 2,
            "linecolor": "white",
            "showbackground": true,
            "ticks": "",
            "zerolinecolor": "white"
           },
           "yaxis": {
            "backgroundcolor": "#E5ECF6",
            "gridcolor": "white",
            "gridwidth": 2,
            "linecolor": "white",
            "showbackground": true,
            "ticks": "",
            "zerolinecolor": "white"
           },
           "zaxis": {
            "backgroundcolor": "#E5ECF6",
            "gridcolor": "white",
            "gridwidth": 2,
            "linecolor": "white",
            "showbackground": true,
            "ticks": "",
            "zerolinecolor": "white"
           }
          },
          "shapedefaults": {
           "line": {
            "color": "#2a3f5f"
           }
          },
          "ternary": {
           "aaxis": {
            "gridcolor": "white",
            "linecolor": "white",
            "ticks": ""
           },
           "baxis": {
            "gridcolor": "white",
            "linecolor": "white",
            "ticks": ""
           },
           "bgcolor": "#E5ECF6",
           "caxis": {
            "gridcolor": "white",
            "linecolor": "white",
            "ticks": ""
           }
          },
          "title": {
           "x": 0.05
          },
          "xaxis": {
           "automargin": true,
           "gridcolor": "white",
           "linecolor": "white",
           "ticks": "",
           "title": {
            "standoff": 15
           },
           "zerolinecolor": "white",
           "zerolinewidth": 2
          },
          "yaxis": {
           "automargin": true,
           "gridcolor": "white",
           "linecolor": "white",
           "ticks": "",
           "title": {
            "standoff": 15
           },
           "zerolinecolor": "white",
           "zerolinewidth": 2
          }
         }
        },
        "title": {
         "text": "Table Row Counts"
        },
        "xaxis": {
         "anchor": "y",
         "domain": [
          0,
          1
         ],
         "title": {
          "text": "table_name"
         }
        },
        "yaxis": {
         "anchor": "x",
         "domain": [
          0,
          1
         ],
         "title": {
          "text": "num_rows"
         }
        }
       }
      }
     },
     "metadata": {},
     "output_type": "display_data"
    },
    {
     "data": {
      "text/html": [
       "<div>\n",
       "<style scoped>\n",
       "    .dataframe tbody tr th:only-of-type {\n",
       "        vertical-align: middle;\n",
       "    }\n",
       "\n",
       "    .dataframe tbody tr th {\n",
       "        vertical-align: top;\n",
       "    }\n",
       "\n",
       "    .dataframe thead th {\n",
       "        text-align: right;\n",
       "    }\n",
       "</style>\n",
       "<table border=\"1\" class=\"dataframe\">\n",
       "  <thead>\n",
       "    <tr style=\"text-align: right;\">\n",
       "      <th></th>\n",
       "      <th>table_name</th>\n",
       "      <th>num_rows</th>\n",
       "      <th>avg_row_len</th>\n",
       "    </tr>\n",
       "  </thead>\n",
       "  <tbody>\n",
       "    <tr>\n",
       "      <th>0</th>\n",
       "      <td>MVIEW$_ADV_PARAMETERS</td>\n",
       "      <td>40</td>\n",
       "      <td>30</td>\n",
       "    </tr>\n",
       "    <tr>\n",
       "      <th>1</th>\n",
       "      <td>AQ$_QUEUES</td>\n",
       "      <td>24</td>\n",
       "      <td>88</td>\n",
       "    </tr>\n",
       "    <tr>\n",
       "      <th>2</th>\n",
       "      <td>REPL_VALID_COMPAT</td>\n",
       "      <td>1</td>\n",
       "      <td>3</td>\n",
       "    </tr>\n",
       "    <tr>\n",
       "      <th>3</th>\n",
       "      <td>REPL_SUPPORT_MATRIX</td>\n",
       "      <td>82</td>\n",
       "      <td>39</td>\n",
       "    </tr>\n",
       "    <tr>\n",
       "      <th>4</th>\n",
       "      <td>AQ$_QUEUE_TABLES</td>\n",
       "      <td>12</td>\n",
       "      <td>81</td>\n",
       "    </tr>\n",
       "    <tr>\n",
       "      <th>5</th>\n",
       "      <td>AQ$_INTERNET_AGENTS</td>\n",
       "      <td>6</td>\n",
       "      <td>18</td>\n",
       "    </tr>\n",
       "    <tr>\n",
       "      <th>6</th>\n",
       "      <td>AQ$_INTERNET_AGENT_PRIVS</td>\n",
       "      <td>4</td>\n",
       "      <td>23</td>\n",
       "    </tr>\n",
       "    <tr>\n",
       "      <th>7</th>\n",
       "      <td>HELP</td>\n",
       "      <td>978</td>\n",
       "      <td>40</td>\n",
       "    </tr>\n",
       "    <tr>\n",
       "      <th>8</th>\n",
       "      <td>REDO_DB</td>\n",
       "      <td>1</td>\n",
       "      <td>90</td>\n",
       "    </tr>\n",
       "    <tr>\n",
       "      <th>9</th>\n",
       "      <td>LOGSTDBY$SKIP_SUPPORT</td>\n",
       "      <td>676</td>\n",
       "      <td>34</td>\n",
       "    </tr>\n",
       "  </tbody>\n",
       "</table>\n",
       "</div>"
      ],
      "text/plain": [
       "                 table_name  num_rows  avg_row_len\n",
       "0     MVIEW$_ADV_PARAMETERS        40           30\n",
       "1                AQ$_QUEUES        24           88\n",
       "2         REPL_VALID_COMPAT         1            3\n",
       "3       REPL_SUPPORT_MATRIX        82           39\n",
       "4          AQ$_QUEUE_TABLES        12           81\n",
       "5       AQ$_INTERNET_AGENTS         6           18\n",
       "6  AQ$_INTERNET_AGENT_PRIVS         4           23\n",
       "7                      HELP       978           40\n",
       "8                   REDO_DB         1           90\n",
       "9     LOGSTDBY$SKIP_SUPPORT       676           34"
      ]
     },
     "execution_count": 12,
     "metadata": {},
     "output_type": "execute_result"
    }
   ],
   "source": [
    "def test_visualization():\n",
    "    connection = create_connection()\n",
    "    if connection:\n",
    "        try:\n",
    "            # Create sample data\n",
    "            with connection.cursor() as cursor:\n",
    "                cursor.execute(\"\"\"\n",
    "                    SELECT table_name, num_rows, avg_row_len \n",
    "                    FROM user_tables \n",
    "                    WHERE num_rows > 0\n",
    "                \"\"\")\n",
    "                df = pd.DataFrame(cursor.fetchall(), \n",
    "                                columns=['table_name', 'num_rows', 'avg_row_len'])\n",
    "                \n",
    "                # Create visualization\n",
    "                fig = px.bar(df, x='table_name', y='num_rows',\n",
    "                           title='Table Row Counts')\n",
    "                fig.show()\n",
    "                \n",
    "                return df\n",
    "        except Exception as e:\n",
    "            print(f\"Error: {str(e)}\")\n",
    "        finally:\n",
    "            connection.close()\n",
    "    return None\n",
    "\n",
    "# Test the visualization\n",
    "test_visualization()"
   ]
  },
  {
   "cell_type": "code",
   "execution_count": 13,
   "metadata": {},
   "outputs": [],
   "source": [
    "def create_interface():\n",
    "    # Tab layout\n",
    "    tab = widgets.Tab()\n",
    "    \n",
    "    # Query Tab\n",
    "    query_input = widgets.Text(\n",
    "        value='',\n",
    "        placeholder='Enter your SQL query',\n",
    "        description='Query:',\n",
    "        disabled=False,\n",
    "        layout=widgets.Layout(width='80%')\n",
    "    )\n",
    "    \n",
    "    # Dropdown for common queries\n",
    "    common_queries = widgets.Dropdown(\n",
    "        options=[\n",
    "            ('Show all tables', 'SELECT table_name FROM user_tables'),\n",
    "            ('Vector embeddings data', 'SELECT * FROM vector_embeddings'),\n",
    "            ('Table statistics', 'SELECT table_name, num_rows, avg_row_len FROM user_tables'),\n",
    "            ('Database version', 'SELECT * FROM v$version')\n",
    "        ],\n",
    "        description='Quick Queries:',\n",
    "        layout=widgets.Layout(width='80%')\n",
    "    )\n",
    "    \n",
    "    output = widgets.Output()\n",
    "    viz_output = widgets.Output()\n",
    "    \n",
    "    # Data Generation Tab\n",
    "    num_records = widgets.IntSlider(\n",
    "        value=100,\n",
    "        min=10,\n",
    "        max=1000,\n",
    "        step=10,\n",
    "        description='Records:',\n",
    "        layout=widgets.Layout(width='50%')\n",
    "    )\n",
    "    \n",
    "    table_name = widgets.Text(\n",
    "        value='generated_data',\n",
    "        placeholder='Enter table name',\n",
    "        description='Table:',\n",
    "        layout=widgets.Layout(width='50%')\n",
    "    )\n",
    "    \n",
    "    vector_dim = widgets.IntSlider(\n",
    "        value=128,\n",
    "        min=32,\n",
    "        max=512,\n",
    "        step=32,\n",
    "        description='Vector Dim:',\n",
    "        layout=widgets.Layout(width='50%')\n",
    "    )\n",
    "    \n",
    "    gen_output = widgets.Output()\n",
    "    \n",
    "    def generate_sample_data(b):\n",
    "        with gen_output:\n",
    "            gen_output.clear_output()\n",
    "            \n",
    "            config = {\n",
    "                'num_records': num_records.value,\n",
    "                'fields': {\n",
    "                    'title': {\n",
    "                        'type': 'string',\n",
    "                        'choices': ['Research Paper', 'Article', 'Blog Post', 'News'],\n",
    "                        'null_prob': 0.0\n",
    "                    },\n",
    "                    'content_length': {\n",
    "                        'type': 'int',\n",
    "                        'min': 100,\n",
    "                        'max': 5000,\n",
    "                        'null_prob': 0.0\n",
    "                    },\n",
    "                    'relevance_score': {\n",
    "                        'type': 'float',\n",
    "                        'min': 0.0,\n",
    "                        'max': 1.0,\n",
    "                        'null_prob': 0.1\n",
    "                    },\n",
    "                    'embedding': {\n",
    "                        'type': 'vector',\n",
    "                        'vector_dim': vector_dim.value,\n",
    "                        'null_prob': 0.0\n",
    "                    },\n",
    "                    'publish_date': {\n",
    "                        'type': 'date',\n",
    "                        'min': '2025-01-01',\n",
    "                        'max': '2025-12-31',\n",
    "                        'null_prob': 0.0\n",
    "                    }\n",
    "                }\n",
    "            }\n",
    "            \n",
    "            df = generate_dummy_data(config)\n",
    "            print(f\"Generated {len(df)} records\")\n",
    "            create_table_from_data(df, table_name.value, vector_cols=['embedding'])\n",
    "            \n",
    "            # Display sample and visualization\n",
    "            display(df.head())\n",
    "            \n",
    "            fig = px.scatter(df,\n",
    "                           x='publish_date',\n",
    "                           y='content_length',\n",
    "                           color='relevance_score',\n",
    "                           title='Generated Data Overview')\n",
    "            fig.show()\n",
    "    \n",
    "    generate_button = widgets.Button(description=\"Generate Data\")\n",
    "    generate_button.on_click(generate_sample_data)\n",
    "    \n",
    "    def query_to_df(query):\n",
    "        connection = create_connection()\n",
    "        if connection:\n",
    "            try:\n",
    "                return pd.read_sql(query, connection)\n",
    "            except Exception as e:\n",
    "                print(f\"Error: {str(e)}\")\n",
    "                return None\n",
    "            finally:\n",
    "                connection.close()\n",
    "        return None\n",
    "\n",
    "    def create_visualizations(df):\n",
    "        if df is None or df.empty:\n",
    "            return\n",
    "        \n",
    "        with viz_output:\n",
    "            viz_output.clear_output(wait=True)\n",
    "            \n",
    "            # Create basic statistics\n",
    "            display(widgets.HTML(\"<h3>Data Statistics</h3>\"))\n",
    "            display(df.describe())\n",
    "            \n",
    "            # For numerical columns, create a box plot\n",
    "            num_cols = df.select_dtypes(include=['int64', 'float64']).columns\n",
    "            if len(num_cols) > 0:\n",
    "                fig = px.box(df, y=num_cols)\n",
    "                fig.update_layout(title=\"Numerical Columns Distribution\")\n",
    "                fig.show()\n",
    "            \n",
    "            # For categorical columns, create a bar plot\n",
    "            cat_cols = df.select_dtypes(include=['object']).columns\n",
    "            if len(cat_cols) > 0:\n",
    "                for col in cat_cols[:3]:  # Limit to first 3 categorical columns\n",
    "                    value_counts = df[col].value_counts()\n",
    "                    fig = px.bar(x=value_counts.index, y=value_counts.values,\n",
    "                               title=f\"Distribution of {col}\")\n",
    "                    fig.show()\n",
    "\n",
    "    def on_query_select(change):\n",
    "        if change['type'] == 'change' and change['name'] == 'value':\n",
    "            query_input.value = change['new']\n",
    "\n",
    "    def on_button_clicked(b):\n",
    "        with output:\n",
    "            output.clear_output(wait=True)\n",
    "            df = query_to_df(query_input.value)\n",
    "            if df is not None:\n",
    "                display(widgets.HTML(\"<h3>Query Results</h3>\"))\n",
    "                display(df)\n",
    "                create_visualizations(df)\n",
    "\n",
    "    common_queries.observe(on_query_select, names='value')\n",
    "    button = widgets.Button(description=\"Execute Query\")\n",
    "    button.on_click(on_button_clicked)\n",
    "    \n",
    "    # Create tab contents\n",
    "    query_tab = widgets.VBox([\n",
    "        widgets.HTML(\"<h2>Database Query Interface</h2>\"),\n",
    "        common_queries,\n",
    "        query_input,\n",
    "        button,\n",
    "        output,\n",
    "        viz_output\n",
    "    ])\n",
    "    \n",
    "    # Create data generation tab\n",
    "    gen_tab = widgets.VBox([\n",
    "        widgets.HTML(\"<h2>Generate Sample Data</h2>\"),\n",
    "        widgets.HBox([num_records, table_name]),\n",
    "        vector_dim,\n",
    "        generate_button,\n",
    "        gen_output\n",
    "    ])\n",
    "    \n",
    "    # Create info tab\n",
    "    info_tab = widgets.VBox([\n",
    "        widgets.HTML(\"\"\"\n",
    "        <h2>Information</h2>\n",
    "        <h3>Available Tables:</h3>\n",
    "        <ul>\n",
    "            <li>vector_embeddings - Stores vector data and embeddings</li>\n",
    "            <li>user_tables - System table with metadata about all tables</li>\n",
    "            <li>v$version - Database version information</li>\n",
    "        </ul>\n",
    "        <h3>Tips:</h3>\n",
    "        <ul>\n",
    "            <li>Use the Quick Queries dropdown for common operations</li>\n",
    "            <li>Results will be displayed as interactive dataframes</li>\n",
    "            <li>Automatic visualizations are generated for numerical and categorical data</li>\n",
    "            <li>Use the Generate Sample Data tab to create test data</li>\n",
    "        </ul>\n",
    "        \"\"\")\n",
    "    ])\n",
    "    \n",
    "    # Set up tabs\n",
    "    tab.children = [query_tab, gen_tab, info_tab]\n",
    "    tab.set_title(0, 'Query & Visualize')\n",
    "    tab.set_title(1, 'Generate Data')\n",
    "    tab.set_title(2, 'Information')\n",
    "    \n",
    "    display(tab)"
   ]
  },
  {
   "cell_type": "code",
   "execution_count": 14,
   "metadata": {},
   "outputs": [],
   "source": [
    "# create_interface()"
   ]
  },
  {
   "cell_type": "markdown",
   "metadata": {},
   "source": [
    "## Running as a Web Application\n",
    "\n",
    "To run this notebook as a web application:\n",
    "\n",
    "1. Save this notebook\n",
    "2. Open terminal\n",
    "3. Run: `voila oracle_vector_demo.ipynb --port 8866`\n",
    "4. Open browser at http://localhost:8866\n",
    "\n",
    "### Notes:\n",
    "- Ensure all credentials are properly secured in production\n",
    "- Consider adding authentication for the web interface\n",
    "- Add error handling and input validation for production use"
   ]
  },
  {
   "cell_type": "markdown",
   "metadata": {},
   "source": [
    "## 5. Schema Management and Standard Tables\n",
    "\n",
    "This section provides utilities for:\n",
    "1. Viewing table schemas\n",
    "2. Creating standardized tables for common use cases\n",
    "3. Managing table metadata"
   ]
  },
  {
   "cell_type": "code",
   "execution_count": 15,
   "metadata": {},
   "outputs": [
    {
     "data": {
      "application/vnd.jupyter.widget-view+json": {
       "model_id": "7a06360572b646b08d367dec0084245c",
       "version_major": 2,
       "version_minor": 0
      },
      "text/plain": [
       "VBox(children=(HTML(value='<h2>Table Schema Viewer</h2>'), Dropdown(description='Table:', layout=Layout(width=…"
      ]
     },
     "metadata": {},
     "output_type": "display_data"
    }
   ],
   "source": [
    "def get_table_schema(table_name, connection=None):\n",
    "    \"\"\"\n",
    "    Get detailed schema information for a table\n",
    "    \"\"\"\n",
    "    if connection is None:\n",
    "        connection = create_connection()\n",
    "    \n",
    "    if connection:\n",
    "        try:\n",
    "            # Get column information\n",
    "            columns_query = \"\"\"\n",
    "            SELECT column_name, data_type, data_length, nullable, data_precision, data_scale\n",
    "            FROM user_tab_columns\n",
    "            WHERE table_name = :1\n",
    "            ORDER BY column_id\n",
    "            \"\"\"\n",
    "            \n",
    "            # Get constraint information\n",
    "            constraints_query = \"\"\"\n",
    "            SELECT constraint_name, constraint_type, search_condition, r_owner, r_constraint_name\n",
    "            FROM user_constraints\n",
    "            WHERE table_name = :1\n",
    "            \"\"\"\n",
    "            \n",
    "            # Get index information\n",
    "            indexes_query = \"\"\"\n",
    "            SELECT index_name, uniqueness, index_type\n",
    "            FROM user_indexes\n",
    "            WHERE table_name = :1\n",
    "            \"\"\"\n",
    "            \n",
    "            with connection.cursor() as cursor:\n",
    "                # Get columns\n",
    "                cursor.execute(columns_query, [table_name.upper()])\n",
    "                columns = pd.DataFrame(cursor.fetchall(), \n",
    "                                     columns=['Column', 'Type', 'Length', 'Nullable', 'Precision', 'Scale'])\n",
    "                \n",
    "                # Get constraints\n",
    "                cursor.execute(constraints_query, [table_name.upper()])\n",
    "                constraints = pd.DataFrame(cursor.fetchall(),\n",
    "                                        columns=['Name', 'Type', 'Condition', 'Ref_Owner', 'Ref_Constraint'])\n",
    "                \n",
    "                # Get indexes\n",
    "                cursor.execute(indexes_query, [table_name.upper()])\n",
    "                indexes = pd.DataFrame(cursor.fetchall(),\n",
    "                                     columns=['Name', 'Uniqueness', 'Type'])\n",
    "                \n",
    "                return {\n",
    "                    'columns': columns,\n",
    "                    'constraints': constraints,\n",
    "                    'indexes': indexes\n",
    "                }\n",
    "        \n",
    "        except Exception as e:\n",
    "            print(f\"Error getting schema: {str(e)}\")\n",
    "            return None\n",
    "        finally:\n",
    "            connection.close()\n",
    "    return None\n",
    "\n",
    "# Create a schema viewer interface\n",
    "def create_schema_viewer():\n",
    "    schema_tab = widgets.Tab()\n",
    "    \n",
    "    # Table selector\n",
    "    table_select = widgets.Dropdown(\n",
    "        options=[],\n",
    "        description='Table:',\n",
    "        layout=widgets.Layout(width='50%')\n",
    "    )\n",
    "    \n",
    "    schema_output = widgets.Output()\n",
    "    \n",
    "    def update_table_list():\n",
    "        connection = create_connection()\n",
    "        if connection:\n",
    "            try:\n",
    "                with connection.cursor() as cursor:\n",
    "                    cursor.execute(\"SELECT table_name FROM user_tables ORDER BY table_name\")\n",
    "                    tables = [row[0] for row in cursor.fetchall()]\n",
    "                    table_select.options = tables\n",
    "            finally:\n",
    "                connection.close()\n",
    "    \n",
    "    def view_schema(change):\n",
    "        if change['type'] == 'change' and change['name'] == 'value':\n",
    "            with schema_output:\n",
    "                schema_output.clear_output()\n",
    "                schema = get_table_schema(change['new'])\n",
    "                if schema:\n",
    "                    display(widgets.HTML(f\"<h3>Schema for {change['new']}</h3>\"))\n",
    "                    display(widgets.HTML(\"<h4>Columns:</h4>\"))\n",
    "                    display(schema['columns'])\n",
    "                    if not schema['constraints'].empty:\n",
    "                        display(widgets.HTML(\"<h4>Constraints:</h4>\"))\n",
    "                        display(schema['constraints'])\n",
    "                    if not schema['indexes'].empty:\n",
    "                        display(widgets.HTML(\"<h4>Indexes:</h4>\"))\n",
    "                        display(schema['indexes'])\n",
    "    \n",
    "    table_select.observe(view_schema, names='value')\n",
    "    \n",
    "    # Initialize table list\n",
    "    update_table_list()\n",
    "    \n",
    "    # Layout\n",
    "    return widgets.VBox([\n",
    "        widgets.HTML(\"<h2>Table Schema Viewer</h2>\"),\n",
    "        table_select,\n",
    "        schema_output\n",
    "    ])\n",
    "\n",
    "# Create and display the schema viewer\n",
    "schema_viewer = create_schema_viewer()\n",
    "display(schema_viewer)"
   ]
  },
  {
   "cell_type": "code",
   "execution_count": 16,
   "metadata": {},
   "outputs": [],
   "source": [
    "# def create_standard_tables():\n",
    "#     \"\"\"\n",
    "#     Create a set of standardized tables for common use cases\n",
    "#     \"\"\"\n",
    "#     # Document Store table\n",
    "#     doc_store_config = {\n",
    "#         'num_records': 0,  # No initial records\n",
    "#         'fields': {\n",
    "#             'title': {\n",
    "#                 'type': 'string',\n",
    "#                 'null_prob': 0.0\n",
    "#             },\n",
    "#             'content': {\n",
    "#                 'type': 'string',\n",
    "#                 'null_prob': 0.0\n",
    "#             },\n",
    "#             'doc_type': {\n",
    "#                 'type': 'string',\n",
    "#                 'choices': ['article', 'report', 'paper', 'note'],\n",
    "#                 'null_prob': 0.0\n",
    "#             },\n",
    "#             'embedding': {\n",
    "#                 'type': 'vector',\n",
    "#                 'vector_dim': 384,  # Standard BERT embedding size\n",
    "#                 'null_prob': 0.0\n",
    "#             },\n",
    "#             'metadata': {\n",
    "#                 'type': 'string',  # JSON string\n",
    "#                 'null_prob': 0.1\n",
    "#             }\n",
    "#         }\n",
    "#     }\n",
    "    \n",
    "#     # Time Series table\n",
    "#     timeseries_config = {\n",
    "#         'num_records': 0,\n",
    "#         'fields': {\n",
    "#             'timestamp': {\n",
    "#                 'type': 'date',\n",
    "#                 'null_prob': 0.0\n",
    "#             },\n",
    "#             'metric_name': {\n",
    "#                 'type': 'string',\n",
    "#                 'null_prob': 0.0\n",
    "#             },\n",
    "#             'value': {\n",
    "#                 'type': 'float',\n",
    "#                 'null_prob': 0.0\n",
    "#             },\n",
    "#             'dimensions': {\n",
    "#                 'type': 'string',  # JSON string for dimensions\n",
    "#                 'null_prob': 0.1\n",
    "#             }\n",
    "#         }\n",
    "#     }\n",
    "    \n",
    "#     # Entity table\n",
    "#     entity_config = {\n",
    "#         'num_records': 0,\n",
    "#         'fields': {\n",
    "#             'entity_type': {\n",
    "#                 'type': 'string',\n",
    "#                 'choices': ['person', 'organization', 'location'],\n",
    "#                 'null_prob': 0.0\n",
    "#             },\n",
    "#             'name': {\n",
    "#                 'type': 'string',\n",
    "#                 'null_prob': 0.0\n",
    "#             },\n",
    "#             'attributes': {\n",
    "#                 'type': 'string',  # JSON string\n",
    "#                 'null_prob': 0.1\n",
    "#             },\n",
    "#             'embedding': {\n",
    "#                 'type': 'vector',\n",
    "#                 'vector_dim': 256,\n",
    "#                 'null_prob': 0.0\n",
    "#             }\n",
    "#         }\n",
    "#     }\n",
    "    \n",
    "#     # Create empty DataFrames and tables\n",
    "#     tables = {\n",
    "#         'document_store': (generate_dummy_data(doc_store_config), ['embedding']),\n",
    "#         'time_series': (generate_dummy_data(timeseries_config), []),\n",
    "#         'entities': (generate_dummy_data(entity_config), ['embedding'])\n",
    "#     }\n",
    "    \n",
    "#     for table_name, (df, vector_cols) in tables.items():\n",
    "#         try:\n",
    "#             create_table_from_data(df, table_name, vector_cols)\n",
    "#             print(f\"Created standard table: {table_name}\")\n",
    "            \n",
    "#             # Display schema\n",
    "#             schema = get_table_schema(table_name)\n",
    "#             if schema:\n",
    "#                 print(f\"\\nSchema for {table_name}:\")\n",
    "#                 display(schema['columns'])\n",
    "#                 if not schema['constraints'].empty:\n",
    "#                     print(\"\\nConstraints:\")\n",
    "#                     display(schema['constraints'])\n",
    "#                 if not schema['indexes'].empty:\n",
    "#                     print(\"\\nIndexes:\")\n",
    "#                     display(schema['indexes'])\n",
    "#         except Exception as e:\n",
    "#             print(f\"Error creating {table_name}: {str(e)}\")\n",
    "\n",
    "# Create standard tables interface\n",
    "def create_standard_tables_interface():\n",
    "    output = widgets.Output()\n",
    "    \n",
    "    create_button = widgets.Button(\n",
    "        description='Create Standard Tables',\n",
    "        tooltip='Creates a set of predefined tables for common use cases'\n",
    "    )\n",
    "    \n",
    "    def on_create_clicked(b):\n",
    "        with output:\n",
    "            output.clear_output()\n",
    "            create_standard_tables()\n",
    "    \n",
    "    create_button.on_click(on_create_clicked)\n",
    "    \n",
    "    return widgets.VBox([\n",
    "        widgets.HTML(\"\"\"\n",
    "        <h2>Standard Tables</h2>\n",
    "        <p>Click the button below to create a set of standardized tables:</p>\n",
    "        <ul>\n",
    "            <li><strong>document_store</strong>: For storing documents with vector embeddings</li>\n",
    "            <li><strong>time_series</strong>: For time-series data with dimensions</li>\n",
    "            <li><strong>entities</strong>: For storing entity data with embeddings</li>\n",
    "        </ul>\n",
    "        \"\"\"),\n",
    "        create_button,\n",
    "        output\n",
    "    ])\n",
    "\n",
    "# # Create and display the standard tables interface\n",
    "# standard_tables = create_standard_tables_interface()\n",
    "# display(standard_tables)"
   ]
  },
  {
   "cell_type": "code",
   "execution_count": 17,
   "metadata": {},
   "outputs": [],
   "source": [
    "def create_interface():\n",
    "    # Main tab layout\n",
    "    main_tab = widgets.Tab()\n",
    "    \n",
    "    # Create all sub-components\n",
    "    query_tab = create_query_tab()\n",
    "    gen_tab = create_data_generation_tab()\n",
    "    info_tab = create_info_tab()\n",
    "    schema_tab = create_schema_viewer()\n",
    "    standard_tab = create_standard_tables_interface()\n",
    "    \n",
    "    # Set up main tabs\n",
    "    main_tab.children = [query_tab, gen_tab, schema_tab, standard_tab, info_tab]\n",
    "    main_tab.set_title(0, 'Query & Visualize')\n",
    "    main_tab.set_title(1, 'Generate Data')\n",
    "    main_tab.set_title(2, 'Schema Viewer')\n",
    "    main_tab.set_title(3, 'Standard Tables')\n",
    "    main_tab.set_title(4, 'Information')\n",
    "    \n",
    "    display(main_tab)\n",
    "\n",
    "def create_query_tab():\n",
    "    # Query components\n",
    "    query_input = widgets.Text(\n",
    "        value='',\n",
    "        placeholder='Enter your SQL query',\n",
    "        description='Query:',\n",
    "        disabled=False,\n",
    "        layout=widgets.Layout(width='80%')\n",
    "    )\n",
    "    \n",
    "    common_queries = widgets.Dropdown(\n",
    "        options=[\n",
    "            ('Show all tables', 'SELECT table_name FROM user_tables'),\n",
    "            ('Vector embeddings data', 'SELECT * FROM vector_embeddings'),\n",
    "            ('Table statistics', 'SELECT table_name, num_rows, avg_row_len FROM user_tables'),\n",
    "            ('Database version', 'SELECT * FROM v$version')\n",
    "        ],\n",
    "        description='Quick Queries:',\n",
    "        layout=widgets.Layout(width='80%')\n",
    "    )\n",
    "    \n",
    "    output = widgets.Output()\n",
    "    viz_output = widgets.Output()\n",
    "    \n",
    "    def query_to_df(query):\n",
    "        connection = create_connection()\n",
    "        if connection:\n",
    "            try:\n",
    "                return pd.read_sql(query, connection)\n",
    "            except Exception as e:\n",
    "                print(f\"Error: {str(e)}\")\n",
    "                return None\n",
    "            finally:\n",
    "                connection.close()\n",
    "        return None\n",
    "\n",
    "    def create_visualizations(df):\n",
    "        if df is None or df.empty:\n",
    "            return\n",
    "        \n",
    "        with viz_output:\n",
    "            viz_output.clear_output(wait=True)\n",
    "            \n",
    "            # Create basic statistics\n",
    "            display(widgets.HTML(\"<h3>Data Statistics</h3>\"))\n",
    "            display(df.describe())\n",
    "            \n",
    "            # For numerical columns, create a box plot\n",
    "            num_cols = df.select_dtypes(include=['int64', 'float64']).columns\n",
    "            if len(num_cols) > 0:\n",
    "                fig = px.box(df, y=num_cols)\n",
    "                fig.update_layout(title=\"Numerical Columns Distribution\")\n",
    "                fig.show()\n",
    "            \n",
    "            # For categorical columns, create a bar plot\n",
    "            cat_cols = df.select_dtypes(include=['object']).columns\n",
    "            if len(cat_cols) > 0:\n",
    "                for col in cat_cols[:3]:\n",
    "                    value_counts = df[col].value_counts()\n",
    "                    fig = px.bar(x=value_counts.index, y=value_counts.values,\n",
    "                               title=f\"Distribution of {col}\")\n",
    "                    fig.show()\n",
    "\n",
    "    def on_query_select(change):\n",
    "        if change['type'] == 'change' and change['name'] == 'value':\n",
    "            query_input.value = change['new']\n",
    "\n",
    "    def on_button_clicked(b):\n",
    "        with output:\n",
    "            output.clear_output(wait=True)\n",
    "            df = query_to_df(query_input.value)\n",
    "            if df is not None:\n",
    "                display(widgets.HTML(\"<h3>Query Results</h3>\"))\n",
    "                display(df)\n",
    "                create_visualizations(df)\n",
    "\n",
    "    common_queries.observe(on_query_select, names='value')\n",
    "    button = widgets.Button(description=\"Execute Query\")\n",
    "    button.on_click(on_button_clicked)\n",
    "    \n",
    "    return widgets.VBox([\n",
    "        widgets.HTML(\"<h2>Database Query Interface</h2>\"),\n",
    "        common_queries,\n",
    "        query_input,\n",
    "        button,\n",
    "        output,\n",
    "        viz_output\n",
    "    ])\n",
    "\n",
    "def create_data_generation_tab():\n",
    "    num_records = widgets.IntSlider(\n",
    "        value=100,\n",
    "        min=10,\n",
    "        max=1000,\n",
    "        step=10,\n",
    "        description='Records:',\n",
    "        layout=widgets.Layout(width='50%')\n",
    "    )\n",
    "    \n",
    "    table_name = widgets.Text(\n",
    "        value='generated_data',\n",
    "        placeholder='Enter table name',\n",
    "        description='Table:',\n",
    "        layout=widgets.Layout(width='50%')\n",
    "    )\n",
    "    \n",
    "    vector_dim = widgets.IntSlider(\n",
    "        value=128,\n",
    "        min=32,\n",
    "        max=512,\n",
    "        step=32,\n",
    "        description='Vector Dim:',\n",
    "        layout=widgets.Layout(width='50%')\n",
    "    )\n",
    "    \n",
    "    gen_output = widgets.Output()\n",
    "    \n",
    "    def generate_sample_data(b):\n",
    "        with gen_output:\n",
    "            gen_output.clear_output()\n",
    "            \n",
    "            config = {\n",
    "                'num_records': num_records.value,\n",
    "                'fields': {\n",
    "                    'title': {\n",
    "                        'type': 'string',\n",
    "                        'choices': ['Research Paper', 'Article', 'Blog Post', 'News'],\n",
    "                        'null_prob': 0.0\n",
    "                    },\n",
    "                    'content_length': {\n",
    "                        'type': 'int',\n",
    "                        'min': 100,\n",
    "                        'max': 5000,\n",
    "                        'null_prob': 0.0\n",
    "                    },\n",
    "                    'relevance_score': {\n",
    "                        'type': 'float',\n",
    "                        'min': 0.0,\n",
    "                        'max': 1.0,\n",
    "                        'null_prob': 0.1\n",
    "                    },\n",
    "                    'embedding': {\n",
    "                        'type': 'vector',\n",
    "                        'vector_dim': vector_dim.value,\n",
    "                        'null_prob': 0.0\n",
    "                    },\n",
    "                    'publish_date': {\n",
    "                        'type': 'date',\n",
    "                        'min': '2025-01-01',\n",
    "                        'max': '2025-12-31',\n",
    "                        'null_prob': 0.0\n",
    "                    }\n",
    "                }\n",
    "            }\n",
    "            \n",
    "            df = generate_dummy_data(config)\n",
    "            print(f\"Generated {len(df)} records\")\n",
    "            create_table_from_data(df, table_name.value, vector_cols=['embedding'])\n",
    "            \n",
    "            # Display sample and visualization\n",
    "            display(df.head())\n",
    "            \n",
    "            fig = px.scatter(df,\n",
    "                           x='publish_date',\n",
    "                           y='content_length',\n",
    "                           color='relevance_score',\n",
    "                           title='Generated Data Overview')\n",
    "            fig.show()\n",
    "            \n",
    "            # Show schema after creation\n",
    "            schema = get_table_schema(table_name.value)\n",
    "            if schema:\n",
    "                display(widgets.HTML(\"<h3>Table Schema:</h3>\"))\n",
    "                display(schema['columns'])\n",
    "    \n",
    "    generate_button = widgets.Button(description=\"Generate Data\")\n",
    "    generate_button.on_click(generate_sample_data)\n",
    "    \n",
    "    return widgets.VBox([\n",
    "        widgets.HTML(\"<h2>Generate Sample Data</h2>\"),\n",
    "        widgets.HBox([num_records, table_name]),\n",
    "        vector_dim,\n",
    "        generate_button,\n",
    "        gen_output\n",
    "    ])\n",
    "\n",
    "def create_info_tab():\n",
    "    return widgets.VBox([\n",
    "        widgets.HTML(\"\"\"\n",
    "        <h2>Information</h2>\n",
    "        <h3>Available Tables:</h3>\n",
    "        <ul>\n",
    "            <li>vector_embeddings - Stores vector data and embeddings</li>\n",
    "            <li>user_tables - System table with metadata about all tables</li>\n",
    "            <li>v$version - Database version information</li>\n",
    "        </ul>\n",
    "        <h3>Tips:</h3>\n",
    "        <ul>\n",
    "            <li>Use the Quick Queries dropdown for common operations</li>\n",
    "            <li>Results will be displayed as interactive dataframes</li>\n",
    "            <li>Automatic visualizations are generated for numerical and categorical data</li>\n",
    "            <li>Use the Generate Sample Data tab to create test data</li>\n",
    "            <li>View table schemas in the Schema Viewer tab</li>\n",
    "            <li>Create standard tables from the Standard Tables tab</li>\n",
    "        </ul>\n",
    "        \"\"\")\n",
    "    ])"
   ]
  },
  {
   "cell_type": "code",
   "execution_count": 18,
   "metadata": {},
   "outputs": [
    {
     "data": {
      "application/vnd.jupyter.widget-view+json": {
       "model_id": "dd91591e756e4569a031e5d6d644605a",
       "version_major": 2,
       "version_minor": 0
      },
      "text/plain": [
       "Tab(children=(VBox(children=(HTML(value='<h2>Database Query Interface</h2>'), Dropdown(description='Quick Quer…"
      ]
     },
     "metadata": {},
     "output_type": "display_data"
    }
   ],
   "source": [
    "create_interface()"
   ]
  },
  {
   "cell_type": "code",
   "execution_count": null,
   "metadata": {},
   "outputs": [],
   "source": []
  }
 ],
 "metadata": {
  "kernelspec": {
   "display_name": "venv (3.12.1)",
   "language": "python",
   "name": "python3"
  },
  "language_info": {
   "codemirror_mode": {
    "name": "ipython",
    "version": 3
   },
   "file_extension": ".py",
   "mimetype": "text/x-python",
   "name": "python",
   "nbconvert_exporter": "python",
   "pygments_lexer": "ipython3",
   "version": "3.12.1"
  }
 },
 "nbformat": 4,
 "nbformat_minor": 4
}
